{
 "cells": [
  {
   "cell_type": "markdown",
   "id": "cf80c5d2",
   "metadata": {},
   "source": [
    "# Classification with an Academic Success Dataset"
   ]
  },
  {
   "cell_type": "markdown",
   "id": "6bab3a8b",
   "metadata": {},
   "source": [
    "## Exploratory Data Analysis"
   ]
  },
  {
   "cell_type": "code",
   "execution_count": 2,
   "id": "f8f5168a",
   "metadata": {},
   "outputs": [
    {
     "name": "stdout",
     "output_type": "stream",
     "text": [
      "   id  Marital status  Application mode  Application order  Course  \\\n",
      "0   0               1                 1                  1    9238   \n",
      "1   1               1                17                  1    9238   \n",
      "2   2               1                17                  2    9254   \n",
      "3   3               1                 1                  3    9500   \n",
      "4   4               1                 1                  2    9500   \n",
      "\n",
      "   Daytime/evening attendance  Previous qualification  \\\n",
      "0                           1                       1   \n",
      "1                           1                       1   \n",
      "2                           1                       1   \n",
      "3                           1                       1   \n",
      "4                           1                       1   \n",
      "\n",
      "   Previous qualification (grade)  Nacionality  Mother's qualification  ...  \\\n",
      "0                           126.0            1                       1  ...   \n",
      "1                           125.0            1                      19  ...   \n",
      "2                           137.0            1                       3  ...   \n",
      "3                           131.0            1                      19  ...   \n",
      "4                           132.0            1                      19  ...   \n",
      "\n",
      "   Curricular units 2nd sem (credited)  Curricular units 2nd sem (enrolled)  \\\n",
      "0                                    0                                    6   \n",
      "1                                    0                                    6   \n",
      "2                                    0                                    6   \n",
      "3                                    0                                    8   \n",
      "4                                    0                                    7   \n",
      "\n",
      "   Curricular units 2nd sem (evaluations)  \\\n",
      "0                                       7   \n",
      "1                                       9   \n",
      "2                                       0   \n",
      "3                                      11   \n",
      "4                                      12   \n",
      "\n",
      "   Curricular units 2nd sem (approved)  Curricular units 2nd sem (grade)  \\\n",
      "0                                    6                         12.428571   \n",
      "1                                    0                          0.000000   \n",
      "2                                    0                          0.000000   \n",
      "3                                    7                         12.820000   \n",
      "4                                    6                         12.933333   \n",
      "\n",
      "   Curricular units 2nd sem (without evaluations)  Unemployment rate  \\\n",
      "0                                               0               11.1   \n",
      "1                                               0               11.1   \n",
      "2                                               0               16.2   \n",
      "3                                               0               11.1   \n",
      "4                                               0                7.6   \n",
      "\n",
      "   Inflation rate   GDP    Target  \n",
      "0             0.6  2.02  Graduate  \n",
      "1             0.6  2.02   Dropout  \n",
      "2             0.3 -0.92   Dropout  \n",
      "3             0.6  2.02  Enrolled  \n",
      "4             2.6  0.32  Graduate  \n",
      "\n",
      "[5 rows x 38 columns]\n"
     ]
    }
   ],
   "source": [
    "import pandas as pd\n",
    "\n",
    "df = pd.read_csv(\"data/train.csv\")\n",
    "print(df.head())"
   ]
  }
 ],
 "metadata": {
  "kernelspec": {
   "display_name": "base",
   "language": "python",
   "name": "python3"
  },
  "language_info": {
   "codemirror_mode": {
    "name": "ipython",
    "version": 3
   },
   "file_extension": ".py",
   "mimetype": "text/x-python",
   "name": "python",
   "nbconvert_exporter": "python",
   "pygments_lexer": "ipython3",
   "version": "3.12.7"
  }
 },
 "nbformat": 4,
 "nbformat_minor": 5
}
