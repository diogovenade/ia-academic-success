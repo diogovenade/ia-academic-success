{
 "cells": [
  {
   "cell_type": "markdown",
   "id": "cf80c5d2",
   "metadata": {},
   "source": [
    "# Classification with an Academic Success Dataset"
   ]
  },
  {
   "cell_type": "markdown",
   "id": "6bab3a8b",
   "metadata": {},
   "source": [
    "## Exploratory Data Analysis"
   ]
  },
  {
   "cell_type": "code",
   "execution_count": null,
   "id": "f8f5168a",
   "metadata": {},
   "outputs": [],
   "source": [
    "import pandas as pd\n",
    "\n",
    "train = pd.read_csv(\"data/train.csv\")\n",
    "test = pd.read_csv(\"data/test.csv\")"
   ]
  },
  {
   "cell_type": "code",
   "execution_count": null,
   "id": "a658aeed",
   "metadata": {},
   "outputs": [],
   "source": [
    "print(\"First 5 rows:\")\n",
    "train.head()"
   ]
  },
  {
   "cell_type": "code",
   "execution_count": null,
   "id": "aa7b4e88",
   "metadata": {},
   "outputs": [],
   "source": [
    "print(\"\\nStatistical summary:\")\n",
    "train.describe()"
   ]
  },
  {
   "cell_type": "code",
   "execution_count": null,
   "id": "6c71da37",
   "metadata": {},
   "outputs": [],
   "source": [
    "print(\"\\nMissing values in each column:\")\n",
    "train.isnull().sum()"
   ]
  },
  {
   "cell_type": "code",
   "execution_count": null,
   "id": "de607ef9",
   "metadata": {},
   "outputs": [],
   "source": [
    "print(\"\\nNumber of duplicate rows:\")\n",
    "print(train.duplicated().sum())\n",
    "\n",
    "print(\"\\nUnique classes:\")\n",
    "print(train['Target'].unique())"
   ]
  },
  {
   "cell_type": "code",
   "execution_count": null,
   "id": "81ea0e18",
   "metadata": {},
   "outputs": [],
   "source": [
    "print(\"\\nDataset information:\")\n",
    "train.info()"
   ]
  },
  {
   "cell_type": "code",
   "execution_count": null,
   "id": "4479ae12",
   "metadata": {},
   "outputs": [],
   "source": [
    "import seaborn as sns\n",
    "import matplotlib.pyplot as plt\n",
    "\n",
    "target_counts = train['Target'].value_counts()\n",
    "\n",
    "plt.figure(figsize=(8, 6))\n",
    "sns.barplot(x=target_counts.index, y=target_counts.values, hue=target_counts.index, palette=\"viridis\", dodge=False, legend=False)\n",
    "plt.title(\"Target Distribution\", fontsize=16)\n",
    "plt.xlabel(\"Target\", fontsize=14)\n",
    "plt.ylabel(\"Frequency\", fontsize=14)\n",
    "plt.xticks(fontsize=12)\n",
    "plt.yticks(fontsize=12)\n",
    "plt.show()"
   ]
  }
 ],
 "metadata": {
  "kernelspec": {
   "display_name": "base",
   "language": "python",
   "name": "python3"
  },
  "language_info": {
   "codemirror_mode": {
    "name": "ipython",
    "version": 3
   },
   "file_extension": ".py",
   "mimetype": "text/x-python",
   "name": "python",
   "nbconvert_exporter": "python",
   "pygments_lexer": "ipython3",
   "version": "3.12.7"
  }
 },
 "nbformat": 4,
 "nbformat_minor": 5
}
