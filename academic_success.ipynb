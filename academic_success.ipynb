{
 "cells": [
  {
   "cell_type": "markdown",
   "id": "cf80c5d2",
   "metadata": {},
   "source": [
    "# Classification with an Academic Success Dataset"
   ]
  },
  {
   "cell_type": "markdown",
   "id": "100c8989",
   "metadata": {},
   "source": [
    "The academic success dataset includes information related to students' academic paths, demographics and social-economic factors at the time of enrollment in university. The objective of this classification problem is to predict the enrollment status of each student at the end of the normal duration of their course, which can be one of the following:\n",
    "\n",
    "- Dropout: the student has quit the course\n",
    "- Enrolled: the student has not completed the course in the expected time\n",
    "- Graduate: the student has completed the course\n",
    "\n",
    "This notebook focuses on the application of supervised learning techniques and contains machine learning models capable of making accurate predictions regarding each student's graduation status.\n"
   ]
  },
  {
   "cell_type": "markdown",
   "id": "6bab3a8b",
   "metadata": {},
   "source": [
    "## Exploratory Data Analysis"
   ]
  },
  {
   "cell_type": "markdown",
   "id": "63784811",
   "metadata": {},
   "source": [
    "The following imports are used in this notebook:\n",
    "\n",
    "- `pandas` and `numpy` for data manipulation and numerical operations.\n",
    "- `seaborn` and `matplotlib.pyplot` for data visualization.\n",
    "- `tqdm` for displaying progress bars during model evaluation.\n",
    "- Scikit-learn modules for preprocessing, model selection, machine learning algorithms, and evaluation metrics.\n",
    "- `%matplotlib inline` to display plots directly within the notebook."
   ]
  },
  {
   "cell_type": "code",
   "execution_count": 1,
   "id": "7b0d1a5a",
   "metadata": {},
   "outputs": [],
   "source": [
    "import pandas as pd\n",
    "import numpy as np\n",
    "import seaborn as sb\n",
    "import matplotlib.pyplot as plt\n",
    "from tqdm import tqdm\n",
    "%matplotlib inline"
   ]
  },
  {
   "cell_type": "markdown",
   "id": "2edc4d09",
   "metadata": {},
   "source": [
    "We start by reading the CSV file and storing the data, setting the 'id' column as its index."
   ]
  },
  {
   "cell_type": "code",
   "execution_count": 2,
   "id": "f8f5168a",
   "metadata": {},
   "outputs": [],
   "source": [
    "train = pd.read_csv(\"data/train.csv\",index_col='id')"
   ]
  },
  {
   "cell_type": "markdown",
   "id": "e61c1655",
   "metadata": {},
   "source": [
    "This is a large dataset, with 76518 rows and 37 columns. It was generated from a deep learning model trained on the original dataset"
   ]
  },
  {
   "cell_type": "code",
   "execution_count": 3,
   "id": "37a03c78",
   "metadata": {},
   "outputs": [
    {
     "name": "stdout",
     "output_type": "stream",
     "text": [
      "Dataset shape (rows, columns): (76518, 37)\n"
     ]
    }
   ],
   "source": [
    "print(\"Dataset shape (rows, columns):\", train.shape)"
   ]
  },
  {
   "cell_type": "code",
   "execution_count": null,
   "id": "a658aeed",
   "metadata": {},
   "outputs": [],
   "source": [
    "print(\"First 5 rows:\")\n",
    "train.head()"
   ]
  },
  {
   "cell_type": "markdown",
   "id": "2820035c",
   "metadata": {},
   "source": [
    "As we can see from the statistical summary, the numeric features of the dataset are not normalized. Most algorithms implemented in this notebook will require normalization."
   ]
  },
  {
   "cell_type": "code",
   "execution_count": null,
   "id": "aa7b4e88",
   "metadata": {},
   "outputs": [],
   "source": [
    "print(\"\\nStatistical summary:\")\n",
    "train.describe()"
   ]
  },
  {
   "cell_type": "markdown",
   "id": "15f1c3c7",
   "metadata": {},
   "source": [
    "There are no missing values, duplicated rows or incorrect target classes, hence we don't need to clean the data."
   ]
  },
  {
   "cell_type": "code",
   "execution_count": null,
   "id": "6c71da37",
   "metadata": {},
   "outputs": [],
   "source": [
    "print(\"\\nMissing values in each column:\")\n",
    "train.isnull().sum()"
   ]
  },
  {
   "cell_type": "code",
   "execution_count": null,
   "id": "de607ef9",
   "metadata": {},
   "outputs": [],
   "source": [
    "print(\"\\nNumber of duplicate rows:\")\n",
    "print(train.duplicated().sum())\n",
    "\n",
    "print(\"\\nUnique classes:\")\n",
    "print(train['Target'].unique())"
   ]
  },
  {
   "cell_type": "markdown",
   "id": "7546dbf0",
   "metadata": {},
   "source": [
    "All features of the dataset, except the Target, are of a numeric type (int64 or float64). However, some of them correspond to categorical features which have already been encoded. Therefore, we will need to consult the original documentation to distinguish the categorical from the numeric features."
   ]
  },
  {
   "cell_type": "code",
   "execution_count": null,
   "id": "81ea0e18",
   "metadata": {},
   "outputs": [],
   "source": [
    "print(\"\\nDataset information:\")\n",
    "train.info()"
   ]
  },
  {
   "cell_type": "markdown",
   "id": "e50abcb9",
   "metadata": {},
   "source": [
    "There is not a significant imbalance between the distributions of the Target classes, though graduates make up nearly half of the students in the dataset."
   ]
  },
  {
   "cell_type": "code",
   "execution_count": null,
   "id": "4479ae12",
   "metadata": {},
   "outputs": [],
   "source": [
    "target_counts = train['Target'].value_counts()\n",
    "\n",
    "fig, axes = plt.subplots(1, 2, figsize=(12, 5))\n",
    "\n",
    "# Bar plot\n",
    "sb.barplot(\n",
    "    x=target_counts.index,\n",
    "    y=target_counts.values,\n",
    "    hue=target_counts.index,\n",
    "    palette=\"viridis\",\n",
    "    dodge=False,\n",
    "    legend=False,\n",
    "    ax=axes[0]\n",
    ")\n",
    "axes[0].set_xlabel(\"Target\", fontsize=14)\n",
    "axes[0].set_ylabel(\"Frequency\", fontsize=14)\n",
    "axes[0].tick_params(axis='x', labelsize=12)\n",
    "axes[0].tick_params(axis='y', labelsize=12)\n",
    "\n",
    "# Pie chart\n",
    "axes[1].pie(\n",
    "    target_counts.values,\n",
    "    labels=target_counts.index,\n",
    "    autopct='%1.1f%%'\n",
    ")\n",
    "\n",
    "fig.suptitle(\"Target Distribution\", fontsize=18)\n",
    "plt.tight_layout(rect=[0, 0, 1, 0.95])\n",
    "plt.show()"
   ]
  },
  {
   "cell_type": "markdown",
   "id": "91e6f471",
   "metadata": {},
   "source": [
    "The categorical features are stored in the cat_vars array. All other attributes are numeric, except for the Target."
   ]
  },
  {
   "cell_type": "code",
   "execution_count": 5,
   "id": "a8931c18",
   "metadata": {},
   "outputs": [],
   "source": [
    "cat_vars = ['Marital status', 'Application mode', 'Course', 'Daytime/evening attendance',\n",
    "            'Previous qualification', 'Nacionality', \"Mother's qualification\",\n",
    "            \"Father's qualification\", \"Mother's occupation\", \"Father's occupation\",\n",
    "            'Displaced', 'Educational special needs', 'Debtor', 'Tuition fees up to date',\n",
    "            'Gender', 'Scholarship holder', 'International']\n",
    "\n",
    "num_features = [col for col in train.columns if col not in cat_vars + ['Target']]"
   ]
  },
  {
   "cell_type": "markdown",
   "id": "4ccd969e",
   "metadata": {},
   "source": [
    "Now we will plot the distributions of the dataset's features. For categorical and integer numeric features, a bar count plot is used, while for float numeric features we'll use an histogram instead."
   ]
  },
  {
   "cell_type": "code",
   "execution_count": null,
   "id": "e5228133",
   "metadata": {},
   "outputs": [],
   "source": [
    "features_to_plot = [col for col in train.columns if col not in ['Target']]\n",
    "\n",
    "n_cols = 4\n",
    "n_rows = int(np.ceil(len(features_to_plot) / n_cols))\n",
    "plt.figure(figsize=(n_cols * 5, n_rows * 4))\n",
    "\n",
    "for idx, col in enumerate(features_to_plot, 1):\n",
    "    plt.subplot(n_rows, n_cols, idx)\n",
    "    unique_count = train[col].nunique()\n",
    "    hide_xticks = unique_count > 25\n",
    "\n",
    "    if col in cat_vars:\n",
    "        sb.countplot(data=train, x=col, hue=col, palette=\"viridis\", legend=False)\n",
    "        if hide_xticks:\n",
    "            plt.xticks([])\n",
    "        else:\n",
    "            plt.xticks(rotation=45)\n",
    "    else:\n",
    "        if train[col].dtype == 'int64':\n",
    "            sb.countplot(data=train, x=col, hue=col, palette=\"mako\", legend=False)\n",
    "            if hide_xticks:\n",
    "                plt.xticks([])\n",
    "            else:\n",
    "                plt.xticks(rotation=45)\n",
    "        elif train[col].dtype == 'float64':\n",
    "            sb.histplot(train[col], kde=True, color=\"skyblue\")\n",
    "            if hide_xticks:\n",
    "                plt.xticks([])\n",
    "    plt.title(col)\n",
    "    plt.tight_layout()\n",
    "\n",
    "plt.show()"
   ]
  },
  {
   "cell_type": "markdown",
   "id": "1134a897",
   "metadata": {},
   "source": [
    "From the above figure we can see that several features, such as 'Marital status' and 'Nationality', are highly imbalanced."
   ]
  },
  {
   "cell_type": "markdown",
   "id": "c8b7c33d",
   "metadata": {},
   "source": [
    "The figure below includes the violin plots of the numeric features of the dataset."
   ]
  },
  {
   "cell_type": "code",
   "execution_count": null,
   "id": "aa0c22a7",
   "metadata": {},
   "outputs": [],
   "source": [
    "n_cols = 3\n",
    "n_rows = int(np.ceil(len(num_features) / n_cols))\n",
    "plt.figure(figsize=(n_cols * 6, n_rows * 4))\n",
    "\n",
    "for idx, feature in enumerate(num_features, 1):\n",
    "    plt.subplot(n_rows, n_cols, idx)\n",
    "    sb.violinplot(data=train, x='Target', y=feature, hue='Target', palette=\"Set2\", legend=False)\n",
    "    plt.title(feature)\n",
    "\n",
    "plt.tight_layout()\n",
    "plt.show()"
   ]
  },
  {
   "cell_type": "markdown",
   "id": "e58a9b53",
   "metadata": {},
   "source": [
    "An interesting observation from the violin plots is that there is not a significant difference in socio-economical features among the different target classes. On the other hand, features related to academic performance, such as grades, are strong differentiators, suggesting that these are more predictice of student outcomes in this dataset."
   ]
  },
  {
   "cell_type": "code",
   "execution_count": null,
   "id": "e434e933",
   "metadata": {},
   "outputs": [],
   "source": [
    "plt.figure(figsize=(16, 12))\n",
    "corr_matrix = train.iloc[:, :-1].corr()\n",
    "sb.heatmap(corr_matrix, annot=True, fmt=\".1f\", cmap=\"coolwarm\", square=True)\n",
    "plt.title(\"Correlation Matrix\", fontsize=18)\n",
    "plt.show()"
   ]
  },
  {
   "cell_type": "markdown",
   "id": "f2aee45f",
   "metadata": {},
   "source": [
    "- There are strong correlations among features related to academic performance.\n",
    "- Socio-economical features, namely 'Unemployment rate', 'Inflation rate' and 'GDP', have very low correlation with all other features."
   ]
  },
  {
   "cell_type": "markdown",
   "id": "e72e3ca7",
   "metadata": {},
   "source": [
    "## Data Preprocessing"
   ]
  },
  {
   "cell_type": "code",
   "execution_count": 6,
   "id": "509a9420",
   "metadata": {},
   "outputs": [
    {
     "name": "stdout",
     "output_type": "stream",
     "text": [
      "[2 0 1]\n"
     ]
    }
   ],
   "source": [
    "from sklearn.preprocessing import LabelEncoder\n",
    "\n",
    "le = LabelEncoder()\n",
    "train['Target'] = le.fit_transform(train['Target'])\n",
    "print(train['Target'].unique())\n",
    "\n",
    "# One-hot encoding for categorical variables\n",
    "train = pd.get_dummies(train, columns=cat_vars, drop_first=True)"
   ]
  },
  {
   "cell_type": "code",
   "execution_count": 7,
   "id": "5a797d47",
   "metadata": {},
   "outputs": [
    {
     "name": "stdout",
     "output_type": "stream",
     "text": [
      "Train set shape: (61214, 274)\n",
      "Test set shape: (15304, 274)\n"
     ]
    }
   ],
   "source": [
    "from sklearn.model_selection import train_test_split\n",
    "\n",
    "X = train.drop('Target', axis=1)\n",
    "y = train['Target']\n",
    "\n",
    "X_train, X_test, y_train, y_test = train_test_split(\n",
    "    X, y, test_size=0.2, random_state=42, stratify=y\n",
    ")\n",
    "\n",
    "print(\"Train set shape:\", X_train.shape)\n",
    "print(\"Test set shape:\", X_test.shape)"
   ]
  },
  {
   "cell_type": "code",
   "execution_count": 8,
   "id": "bece2848",
   "metadata": {},
   "outputs": [
    {
     "name": "stdout",
     "output_type": "stream",
     "text": [
      "Balanced class distribution: [29025 29025 29025]\n"
     ]
    }
   ],
   "source": [
    "from imblearn.over_sampling import RandomOverSampler\n",
    "\n",
    "ros = RandomOverSampler(random_state=42)\n",
    "X_train_bal, y_train_bal = ros.fit_resample(X_train, y_train)\n",
    "\n",
    "print(\"Balanced class distribution:\", np.bincount(y_train_bal))"
   ]
  },
  {
   "cell_type": "code",
   "execution_count": 9,
   "id": "b61a2da2",
   "metadata": {},
   "outputs": [
    {
     "name": "stderr",
     "output_type": "stream",
     "text": [
      "c:\\Users\\diogo\\anaconda3\\Lib\\site-packages\\sklearn\\feature_selection\\_univariate_selection.py:112: UserWarning: Features [ 45 106 154] are constant.\n",
      "  warnings.warn(\"Features %s are constant.\" % constant_features_idx, UserWarning)\n",
      "c:\\Users\\diogo\\anaconda3\\Lib\\site-packages\\sklearn\\feature_selection\\_univariate_selection.py:113: RuntimeWarning: invalid value encountered in divide\n",
      "  f = msb / msw\n"
     ]
    }
   ],
   "source": [
    "from sklearn.feature_selection import SelectKBest, f_classif\n",
    "\n",
    "selector = SelectKBest(score_func=f_classif, k=20)\n",
    "X_new = selector.fit_transform(X_train, y_train)"
   ]
  },
  {
   "cell_type": "code",
   "execution_count": 10,
   "id": "6f898246",
   "metadata": {},
   "outputs": [],
   "source": [
    "from sklearn.preprocessing import StandardScaler\n",
    "\n",
    "scaler = StandardScaler()\n",
    "\n",
    "X_train_s = X_train.copy()\n",
    "X_test_s = X_test.copy()\n",
    "\n",
    "X_train_s[num_features] = scaler.fit_transform(X_train[num_features])\n",
    "X_test_s[num_features] = scaler.transform(X_test[num_features])"
   ]
  },
  {
   "cell_type": "markdown",
   "id": "1debab0b",
   "metadata": {},
   "source": [
    "## Models"
   ]
  },
  {
   "cell_type": "markdown",
   "id": "80ddf6f5",
   "metadata": {},
   "source": [
    "### k-Nearest Neighbors (k-NN)"
   ]
  },
  {
   "cell_type": "code",
   "execution_count": null,
   "id": "c06b2574",
   "metadata": {},
   "outputs": [],
   "source": [
    "from sklearn.neighbors import KNeighborsClassifier\n",
    "from sklearn.model_selection import cross_val_score\n",
    "\n",
    "k_values = [i for i in range (1,31)]\n",
    "scores = []\n",
    "\n",
    "for k in tqdm(k_values, desc=\"Evaluating k values\"):\n",
    "    knn = KNeighborsClassifier(n_neighbors=k)\n",
    "    score = cross_val_score(knn, X_train_s, y_train, cv=5, n_jobs=-1)\n",
    "    scores.append(np.mean(score))\n",
    "\n",
    "sb.lineplot(x = k_values, y = scores, marker = 'o')\n",
    "plt.xlabel(\"K Values\")\n",
    "plt.ylabel(\"Accuracy Score\")\n",
    "\n",
    "plt.show()"
   ]
  },
  {
   "cell_type": "code",
   "execution_count": null,
   "id": "6a28f847",
   "metadata": {},
   "outputs": [],
   "source": [
    "from sklearn.metrics import accuracy_score, precision_score, recall_score, f1_score, confusion_matrix\n",
    "\n",
    "best_index = np.argmax(scores)\n",
    "best_k = k_values[best_index]\n",
    "\n",
    "knn = KNeighborsClassifier(n_neighbors=best_k)\n",
    "knn.fit(X_train_s, y_train)\n",
    "\n",
    "y_pred = knn.predict(X_test_s)\n",
    "\n",
    "accuracy = accuracy_score(y_test, y_pred)\n",
    "precision = precision_score(y_test, y_pred, average='weighted')\n",
    "recall = recall_score(y_test, y_pred, average='weighted')\n",
    "f1 = f1_score(y_test, y_pred, average='weighted')\n",
    "cm = confusion_matrix(y_test, y_pred)\n",
    "\n",
    "print(\"Accuracy:\", accuracy)\n",
    "print(\"Precision:\", precision)\n",
    "print(\"Recall:\", recall)\n",
    "print(\"F1 Score:\", f1)\n",
    "print(\"Confusion Matrix:\\n\", cm)"
   ]
  },
  {
   "cell_type": "markdown",
   "id": "163a5587",
   "metadata": {},
   "source": [
    "### Decision Tree"
   ]
  },
  {
   "cell_type": "code",
   "execution_count": 11,
   "id": "564c940e",
   "metadata": {},
   "outputs": [
    {
     "name": "stderr",
     "output_type": "stream",
     "text": [
      "Evaluating max_depths: 100%|██████████| 20/20 [02:47<00:00,  8.37s/it]\n"
     ]
    },
    {
     "data": {
      "image/png": "[encoded data removed]",
      "text/plain": [
       "<Figure size 640x480 with 1 Axes>"
      ]
     },
     "metadata": {},
     "output_type": "display_data"
    }
   ],
   "source": [
    "import numpy as np\n",
    "from sklearn.tree import DecisionTreeClassifier\n",
    "from sklearn.model_selection import cross_val_score\n",
    "\n",
    "max_depths = range(1, 21)\n",
    "dt_scores = []\n",
    "\n",
    "for depth in tqdm(max_depths, desc=\"Evaluating max_depths\"):\n",
    "    dt = DecisionTreeClassifier(max_depth=depth, random_state=42)\n",
    "    score = cross_val_score(dt, X_train, y_train, cv=5)\n",
    "    dt_scores.append(np.mean(score))\n",
    "\n",
    "sb.lineplot(x=max_depths, y=dt_scores, marker='o')\n",
    "plt.xlabel(\"Max Depth\")\n",
    "plt.ylabel(\"Cross-Validated Accuracy\")\n",
    "plt.title(\"Decision Tree Accuracy vs Max Depth\")\n",
    "plt.show()"
   ]
  },
  {
   "cell_type": "code",
   "execution_count": 12,
   "id": "b4d7a9b1",
   "metadata": {},
   "outputs": [
    {
     "name": "stdout",
     "output_type": "stream",
     "text": [
      "Best max_depth: 8\n",
      "Accuracy: 0.8147543125980136\n",
      "Precision: 0.816942945404814\n",
      "Recall: 0.8147543125980136\n",
      "F1 Score: 0.8137158261471032\n",
      "Confusion Matrix:\n",
      " [[4025  658  376]\n",
      " [ 294 1784  910]\n",
      " [ 104  493 6660]]\n"
     ]
    }
   ],
   "source": [
    "from sklearn.metrics import accuracy_score, precision_score, recall_score, f1_score, confusion_matrix\n",
    "\n",
    "best_depth = int(np.argmax(dt_scores)) + 1\n",
    "dt_best = DecisionTreeClassifier(max_depth=best_depth, random_state=42)\n",
    "dt_best.fit(X_train, y_train)\n",
    "y_pred_dt = dt_best.predict(X_test)\n",
    "\n",
    "accuracy_dt = accuracy_score(y_test, y_pred_dt)\n",
    "precision_dt = precision_score(y_test, y_pred_dt, average='weighted')\n",
    "recall_dt = recall_score(y_test, y_pred_dt, average='weighted')\n",
    "f1_dt = f1_score(y_test, y_pred_dt, average='weighted')\n",
    "cm_dt = confusion_matrix(y_test, y_pred_dt)\n",
    "\n",
    "print(\"Best max_depth:\", best_depth)\n",
    "print(\"Accuracy:\", accuracy_dt)\n",
    "print(\"Precision:\", precision_dt)\n",
    "print(\"Recall:\", recall_dt)\n",
    "print(\"F1 Score:\", f1_dt)\n",
    "print(\"Confusion Matrix:\\n\", cm_dt)"
   ]
  },
  {
   "cell_type": "markdown",
   "id": "d0b5f8c7",
   "metadata": {},
   "source": [
    "### Multi-layer Perceptron (MLP) Classifier"
   ]
  },
  {
   "cell_type": "code",
   "execution_count": null,
   "id": "3b4307cd",
   "metadata": {},
   "outputs": [],
   "source": [
    "from sklearn.neural_network import MLPClassifier\n",
    "from sklearn.model_selection import cross_val_score\n",
    "\n",
    "mlp_hidden_sizes = [(50,), (100,), (150,), (100, 50), (100, 100)]\n",
    "mlp_scores = []\n",
    "for h in tqdm(mlp_hidden_sizes, desc=\"Evaluating hidden_layer_sizes\"):\n",
    "    mlp = MLPClassifier(hidden_layer_sizes=h, max_iter=100, random_state=42)\n",
    "    score = cross_val_score(mlp, X_train_s, y_train, cv=3)\n",
    "    mlp_scores.append(np.mean(score))"
   ]
  },
  {
   "cell_type": "code",
   "execution_count": null,
   "id": "07baea0e",
   "metadata": {},
   "outputs": [],
   "source": [
    "results_df = pd.DataFrame({\n",
    "    \"Hidden Layer Sizes\": [str(h) for h in mlp_hidden_sizes],\n",
    "    \"Accuracy\": mlp_scores\n",
    "})\n",
    "\n",
    "plt.figure(figsize=(10, 6))\n",
    "sb.barplot(data=results_df, x=\"Hidden Layer Sizes\", y=\"Accuracy\", hue=\"Hidden Layer Sizes\", dodge=False, palette=\"viridis\", legend=False)\n",
    "plt.xlabel(\"Hidden Layer Sizes\")\n",
    "plt.ylabel(\"Cross-Validated Accuracy\")\n",
    "plt.title(\"MLP Accuracy vs Hidden Layer Sizes\")\n",
    "plt.xticks(rotation=45)\n",
    "plt.tight_layout()\n",
    "plt.show()"
   ]
  },
  {
   "cell_type": "code",
   "execution_count": null,
   "id": "ce23ca79",
   "metadata": {},
   "outputs": [],
   "source": [
    "from sklearn.neural_network import MLPClassifier\n",
    "\n",
    "mlp = MLPClassifier(hidden_layer_sizes=(100,), max_iter=100, random_state=42)\n",
    "mlp.fit(X_train_s, y_train)\n",
    "y_pred_mlp = mlp.predict(X_test_s)\n",
    "\n",
    "accuracy_mlp = accuracy_score(y_test, y_pred_mlp)\n",
    "precision_mlp = precision_score(y_test, y_pred_mlp, average='weighted')\n",
    "recall_mlp = recall_score(y_test, y_pred_mlp, average='weighted')\n",
    "f1_mlp = f1_score(y_test, y_pred_mlp, average='weighted')\n",
    "cm_mlp = confusion_matrix(y_test, y_pred_mlp)\n",
    "\n",
    "print(\"Accuracy:\", accuracy_mlp)\n",
    "print(\"Precision:\", precision_mlp)\n",
    "print(\"Recall:\", recall_mlp)\n",
    "print(\"F1 Score:\", f1_mlp)\n",
    "print(\"Confusion Matrix:\\n\", cm_mlp)"
   ]
  },
  {
   "cell_type": "markdown",
   "id": "ea89b10e",
   "metadata": {},
   "source": [
    "### Logistic Regression"
   ]
  },
  {
   "cell_type": "code",
   "execution_count": null,
   "id": "e5354169",
   "metadata": {},
   "outputs": [],
   "source": [
    "from sklearn.linear_model import LogisticRegression\n",
    "from sklearn.model_selection import cross_val_score\n",
    "\n",
    "lr_C_values = [0.01, 0.1, 0.5, 1, 2, 5]\n",
    "lr_scores = []\n",
    "\n",
    "for c in tqdm(lr_C_values, desc=\"Evaluating C values\"):\n",
    "    lr = LogisticRegression(C=c, max_iter=200, random_state=42)\n",
    "    score = cross_val_score(lr, X_train_s, y_train, cv=3)\n",
    "    lr_scores.append(np.mean(score))\n",
    "\n",
    "sb.lineplot(x=lr_C_values, y=lr_scores, marker='o')\n",
    "plt.xlabel(\"C Value\")\n",
    "plt.ylabel(\"Cross-Validated Accuracy\")\n",
    "plt.title(\"Logistic Regression Accuracy vs C Value\")\n",
    "plt.show()"
   ]
  },
  {
   "cell_type": "code",
   "execution_count": null,
   "id": "3414ee99",
   "metadata": {},
   "outputs": [],
   "source": [
    "from sklearn.linear_model import LogisticRegression\n",
    "\n",
    "lr = LogisticRegression(max_iter=200, random_state=42)\n",
    "lr.fit(X_train_s, y_train)\n",
    "y_pred_lr = lr.predict(X_test_s)\n",
    "\n",
    "accuracy_lr = accuracy_score(y_test, y_pred_lr)\n",
    "precision_lr = precision_score(y_test, y_pred_lr, average='weighted')\n",
    "recall_lr = recall_score(y_test, y_pred_lr, average='weighted')\n",
    "f1_lr = f1_score(y_test, y_pred_lr, average='weighted')\n",
    "cm_lr = confusion_matrix(y_test, y_pred_lr)\n",
    "\n",
    "print(\"Accuracy:\", accuracy_lr)\n",
    "print(\"Precision:\", precision_lr)\n",
    "print(\"Recall:\", recall_lr)\n",
    "print(\"F1 Score:\", f1_lr)\n",
    "print(\"Confusion Matrix:\\n\", cm_lr)"
   ]
  },
  {
   "cell_type": "markdown",
   "id": "b0da54b3",
   "metadata": {},
   "source": [
    "## Emsemble (Voting Classifier)"
   ]
  },
  {
   "cell_type": "code",
   "execution_count": null,
   "id": "cbdc7359",
   "metadata": {},
   "outputs": [],
   "source": [
    "from sklearn.ensemble import VotingClassifier\n",
    "\n",
    "# Instantiate models with best parameters\n",
    "dt_best = DecisionTreeClassifier(max_depth=best_depth, random_state=42)\n",
    "mlp_best = MLPClassifier(hidden_layer_sizes=(100,), max_iter=100, random_state=42)\n",
    "knn_best = KNeighborsClassifier(n_neighbors=best_k)\n",
    "lr_best = LogisticRegression(max_iter=200, random_state=42)\n",
    "\n",
    "# SVM is omitted from the ensemble due to long training time and lack of predict_proba by default\n",
    "ensemble = VotingClassifier(\n",
    "    estimators=[\n",
    "        ('dt', dt_best),\n",
    "        ('mlp', mlp_best),\n",
    "        ('knn', knn_best),\n",
    "        ('lr', lr_best)\n",
    "    ],\n",
    "    voting='soft'\n",
    ")\n",
    "\n",
    "ensemble.fit(X_train_s, y_train)\n",
    "y_pred_ensemble = ensemble.predict(X_test_s)\n",
    "\n",
    "accuracy_ensemble = accuracy_score(y_test, y_pred_ensemble)\n",
    "precision_ensemble = precision_score(y_test, y_pred_ensemble, average='weighted')\n",
    "recall_ensemble = recall_score(y_test, y_pred_ensemble, average='weighted')\n",
    "f1_ensemble = f1_score(y_test, y_pred_ensemble, average='weighted')\n",
    "cm_ensemble = confusion_matrix(y_test, y_pred_ensemble)\n",
    "\n",
    "print(\"Ensemble Accuracy:\", accuracy_ensemble)\n",
    "print(\"Ensemble Precision:\", precision_ensemble)\n",
    "print(\"Ensemble Recall:\", recall_ensemble)\n",
    "print(\"Ensemble F1 Score:\", f1_ensemble)\n",
    "print(\"Ensemble Confusion Matrix:\\n\", cm_ensemble)"
   ]
  },
  {
   "cell_type": "markdown",
   "id": "ba1b4e64",
   "metadata": {},
   "source": [
    "## Overall Analysis and Comparison of Algorithms"
   ]
  },
  {
   "cell_type": "code",
   "execution_count": null,
   "id": "86098a50",
   "metadata": {},
   "outputs": [],
   "source": [
    "summary_df = pd.DataFrame({\n",
    "    'Algorithm': [\n",
    "        'Decision Tree',\n",
    "        'MLP',\n",
    "        'k-NN',\n",
    "        'Logistic Regression'\n",
    "    ],\n",
    "    'Accuracy': [\n",
    "        accuracy_dt,\n",
    "        accuracy_mlp,\n",
    "        accuracy,  # k-NN\n",
    "        accuracy_lr\n",
    "    ],\n",
    "    'Precision': [\n",
    "        precision_dt,\n",
    "        precision_mlp,\n",
    "        precision,  # k-NN\n",
    "        precision_lr\n",
    "    ],\n",
    "    'Recall': [\n",
    "        recall_dt,\n",
    "        recall_mlp,\n",
    "        recall,  # k-NN\n",
    "        recall_lr\n",
    "    ],\n",
    "    'F1 Score': [\n",
    "        f1_dt,\n",
    "        f1_mlp,\n",
    "        f1,  # k-NN\n",
    "        f1_lr\n",
    "    ]\n",
    "})\n",
    "summary_df"
   ]
  },
  {
   "cell_type": "code",
   "execution_count": null,
   "id": "81f43d52",
   "metadata": {},
   "outputs": [],
   "source": [
    "# Plot comparison of metrics\n",
    "metrics = ['Accuracy', 'Precision', 'Recall', 'F1 Score']\n",
    "plt.figure(figsize=(12, 7))\n",
    "summary_melted = summary_df.melt(id_vars='Algorithm', value_vars=metrics, var_name='Metric', value_name='Score')\n",
    "sb.barplot(data=summary_melted, x='Metric', y='Score', hue='Algorithm', palette='viridis')\n",
    "plt.title('Comparison of Classification Algorithms')\n",
    "plt.ylim(0, 1)\n",
    "plt.legend(title='Algorithm', bbox_to_anchor=(1.05, 1), loc='upper left')\n",
    "plt.tight_layout()\n",
    "plt.show()"
   ]
  },
  {
   "cell_type": "code",
   "execution_count": null,
   "id": "089b5450",
   "metadata": {},
   "outputs": [],
   "source": [
    "# Visualize confusion matrices for all algorithms\n",
    "from sklearn.metrics import ConfusionMatrixDisplay\n",
    "fig, axes = plt.subplots(1, 5, figsize=(22, 4))\n",
    "algorithms = ['Decision Tree', 'MLP', 'k-NN', 'Logistic Regression']\n",
    "cms = [cm_dt, cm_mlp, cm, cm_lr]\n",
    "for ax, name, cmatrix in zip(axes, algorithms, cms):\n",
    "    disp = ConfusionMatrixDisplay(cmatrix)\n",
    "    disp.plot(ax=ax, colorbar=False)\n",
    "    ax.set_title(name)\n",
    "plt.suptitle('Confusion Matrices of All Algorithms', fontsize=16)\n",
    "plt.tight_layout()\n",
    "plt.show()"
   ]
  }
 ],
 "metadata": {
  "kernelspec": {
   "display_name": "base",
   "language": "python",
   "name": "python3"
  },
  "language_info": {
   "codemirror_mode": {
    "name": "ipython",
    "version": 3
   },
   "file_extension": ".py",
   "mimetype": "text/x-python",
   "name": "python",
   "nbconvert_exporter": "python",
   "pygments_lexer": "ipython3",
   "version": "3.12.7"
  }
 },
 "nbformat": 4,
 "nbformat_minor": 5
}
