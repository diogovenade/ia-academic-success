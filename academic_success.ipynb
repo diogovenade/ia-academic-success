{
 "cells": [
  {
   "cell_type": "markdown",
   "id": "cf80c5d2",
   "metadata": {},
   "source": [
    "# Classification with an Academic Success Dataset"
   ]
  },
  {
   "cell_type": "markdown",
   "id": "6bab3a8b",
   "metadata": {},
   "source": [
    "## Exploratory Data Analysis"
   ]
  },
  {
   "cell_type": "code",
   "execution_count": null,
   "id": "7b0d1a5a",
   "metadata": {},
   "outputs": [],
   "source": [
    "import pandas as pd\n",
    "import numpy as np\n",
    "import seaborn as sb\n",
    "import matplotlib.pyplot as plt\n",
    "%matplotlib inline"
   ]
  },
  {
   "cell_type": "code",
   "execution_count": null,
   "id": "f8f5168a",
   "metadata": {},
   "outputs": [],
   "source": [
    "train = pd.read_csv(\"data/train.csv\",index_col='id')"
   ]
  },
  {
   "cell_type": "code",
   "execution_count": null,
   "id": "37a03c78",
   "metadata": {},
   "outputs": [],
   "source": [
    "print(\"Dataset shape (rows, columns):\", train.shape)"
   ]
  },
  {
   "cell_type": "code",
   "execution_count": null,
   "id": "a658aeed",
   "metadata": {},
   "outputs": [],
   "source": [
    "print(\"First 5 rows:\")\n",
    "train.head()"
   ]
  },
  {
   "cell_type": "code",
   "execution_count": null,
   "id": "aa7b4e88",
   "metadata": {},
   "outputs": [],
   "source": [
    "print(\"\\nStatistical summary:\")\n",
    "train.describe()"
   ]
  },
  {
   "cell_type": "code",
   "execution_count": null,
   "id": "6c71da37",
   "metadata": {},
   "outputs": [],
   "source": [
    "print(\"\\nMissing values in each column:\")\n",
    "train.isnull().sum()"
   ]
  },
  {
   "cell_type": "code",
   "execution_count": null,
   "id": "de607ef9",
   "metadata": {},
   "outputs": [],
   "source": [
    "print(\"\\nNumber of duplicate rows:\")\n",
    "print(train.duplicated().sum())\n",
    "\n",
    "print(\"\\nUnique classes:\")\n",
    "print(train['Target'].unique())"
   ]
  },
  {
   "cell_type": "code",
   "execution_count": null,
   "id": "81ea0e18",
   "metadata": {},
   "outputs": [],
   "source": [
    "print(\"\\nDataset information:\")\n",
    "train.info()"
   ]
  },
  {
   "cell_type": "code",
   "execution_count": null,
   "id": "4479ae12",
   "metadata": {},
   "outputs": [],
   "source": [
    "target_counts = train['Target'].value_counts()\n",
    "\n",
    "fig, axes = plt.subplots(1, 2, figsize=(12, 5))\n",
    "\n",
    "# Bar plot\n",
    "sb.barplot(\n",
    "    x=target_counts.index,\n",
    "    y=target_counts.values,\n",
    "    hue=target_counts.index,\n",
    "    palette=\"viridis\",\n",
    "    dodge=False,\n",
    "    legend=False,\n",
    "    ax=axes[0]\n",
    ")\n",
    "axes[0].set_xlabel(\"Target\", fontsize=14)\n",
    "axes[0].set_ylabel(\"Frequency\", fontsize=14)\n",
    "axes[0].tick_params(axis='x', labelsize=12)\n",
    "axes[0].tick_params(axis='y', labelsize=12)\n",
    "\n",
    "# Pie chart\n",
    "axes[1].pie(\n",
    "    target_counts.values,\n",
    "    labels=target_counts.index,\n",
    "    autopct='%1.1f%%'\n",
    ")\n",
    "\n",
    "fig.suptitle(\"Target Distribution\", fontsize=18)\n",
    "plt.tight_layout(rect=[0, 0, 1, 0.95])\n",
    "plt.show()"
   ]
  },
  {
   "cell_type": "code",
   "execution_count": null,
   "id": "a8931c18",
   "metadata": {},
   "outputs": [],
   "source": [
    "cat_vars = ['Marital status', 'Application mode', 'Course', 'Daytime/evening attendance',\n",
    "            'Previous qualification\t', 'Nacionality', \"Mother's qualification\",\n",
    "            \"Father's qualification\", \"Mother's occupation\", \"Father's occupation\",\n",
    "            'Displaced', 'Educational special needs', 'Debtor', 'Tuition fees up to date',\n",
    "            'Gender', 'Scholarship holder', 'International']\n",
    "\n",
    "num_features = [col for col in train.columns if col not in cat_vars + ['Target']]"
   ]
  },
  {
   "cell_type": "code",
   "execution_count": null,
   "id": "e5228133",
   "metadata": {},
   "outputs": [],
   "source": [
    "features_to_plot = [col for col in train.columns if col not in ['Target']]\n",
    "\n",
    "n_cols = 4\n",
    "n_rows = int(np.ceil(len(features_to_plot) / n_cols))\n",
    "plt.figure(figsize=(n_cols * 5, n_rows * 4))\n",
    "\n",
    "for idx, col in enumerate(features_to_plot, 1):\n",
    "    plt.subplot(n_rows, n_cols, idx)\n",
    "    unique_count = train[col].nunique()\n",
    "    hide_xticks = unique_count > 25\n",
    "\n",
    "    if col in cat_vars:\n",
    "        sb.countplot(data=train, x=col, hue=col, palette=\"viridis\", legend=False)\n",
    "        if hide_xticks:\n",
    "            plt.xticks([])\n",
    "        else:\n",
    "            plt.xticks(rotation=45)\n",
    "    else:\n",
    "        if train[col].dtype == 'int64':\n",
    "            sb.countplot(data=train, x=col, hue=col, palette=\"mako\", legend=False)\n",
    "            if hide_xticks:\n",
    "                plt.xticks([])\n",
    "            else:\n",
    "                plt.xticks(rotation=45)\n",
    "        elif train[col].dtype == 'float64':\n",
    "            sb.histplot(train[col], kde=True, color=\"skyblue\")\n",
    "            if hide_xticks:\n",
    "                plt.xticks([])\n",
    "    plt.title(col)\n",
    "    plt.tight_layout()\n",
    "\n",
    "plt.show()"
   ]
  },
  {
   "cell_type": "code",
   "execution_count": null,
   "id": "aa0c22a7",
   "metadata": {},
   "outputs": [],
   "source": [
    "n_cols = 3\n",
    "n_rows = int(np.ceil(len(num_features) / n_cols))\n",
    "plt.figure(figsize=(n_cols * 6, n_rows * 4))\n",
    "\n",
    "for idx, feature in enumerate(num_features, 1):\n",
    "    plt.subplot(n_rows, n_cols, idx)\n",
    "    sb.violinplot(data=train, x='Target', y=feature, hue='Target', palette=\"Set2\", legend=False)\n",
    "    plt.title(feature)\n",
    "\n",
    "plt.tight_layout()\n",
    "plt.show()"
   ]
  },
  {
   "cell_type": "code",
   "execution_count": null,
   "id": "e434e933",
   "metadata": {},
   "outputs": [],
   "source": [
    "plt.figure(figsize=(16, 12))\n",
    "corr_matrix = train[num_features].corr()\n",
    "sb.heatmap(corr_matrix, annot=True, fmt=\".2f\", cmap=\"coolwarm\", square=True)\n",
    "plt.title(\"Correlation Matrix of Numerical Features\", fontsize=18)\n",
    "plt.show()"
   ]
  },
  {
   "cell_type": "markdown",
   "id": "e72e3ca7",
   "metadata": {},
   "source": [
    "## Data Preprocessing"
   ]
  },
  {
   "cell_type": "code",
   "execution_count": null,
   "id": "509a9420",
   "metadata": {},
   "outputs": [],
   "source": [
    "from sklearn.preprocessing import LabelEncoder\n",
    "\n",
    "le = LabelEncoder()\n",
    "train['Target'] = le.fit_transform(train['Target'])\n",
    "print(train['Target'].unique())"
   ]
  },
  {
   "cell_type": "code",
   "execution_count": null,
   "id": "5a797d47",
   "metadata": {},
   "outputs": [],
   "source": [
    "from sklearn.model_selection import train_test_split\n",
    "\n",
    "X = train.drop('Target', axis=1)\n",
    "y = train['Target']\n",
    "\n",
    "X_train, X_test, y_train, y_test = train_test_split(\n",
    "    X, y, test_size=0.2, random_state=42, stratify=y\n",
    ")\n",
    "\n",
    "print(\"Train set shape:\", X_train.shape)\n",
    "print(\"Test set shape:\", X_test.shape)"
   ]
  },
  {
   "cell_type": "code",
   "execution_count": null,
   "id": "6f898246",
   "metadata": {},
   "outputs": [],
   "source": [
    "from sklearn.preprocessing import StandardScaler\n",
    "\n",
    "scaler = StandardScaler()\n",
    "\n",
    "X_train_s = X_train.copy()\n",
    "X_test_s = X_test.copy()\n",
    "\n",
    "X_train_s[num_features] = scaler.fit_transform(X_train[num_features])\n",
    "X_test_s[num_features] = scaler.transform(X_test[num_features])"
   ]
  },
  {
   "cell_type": "markdown",
   "id": "1debab0b",
   "metadata": {},
   "source": [
    "## Models"
   ]
  },
  {
   "cell_type": "markdown",
   "id": "80ddf6f5",
   "metadata": {},
   "source": [
    "### k-Nearest Neighbors (k-NN)"
   ]
  },
  {
   "cell_type": "code",
   "execution_count": null,
   "id": "c06b2574",
   "metadata": {},
   "outputs": [],
   "source": [
    "from sklearn.neighbors import KNeighborsClassifier\n",
    "from sklearn.model_selection import cross_val_score\n",
    "from sklearn.preprocessing import StandardScaler\n",
    "\n",
    "k_values = [i for i in range (1,31)]\n",
    "scores = []\n",
    "\n",
    "scaler = StandardScaler()\n",
    "X_s = scaler.fit_transform(X)\n",
    "\n",
    "for k in k_values:\n",
    "    knn = KNeighborsClassifier(n_neighbors=k)\n",
    "    score = cross_val_score(knn, X_s, y, cv=5)\n",
    "    scores.append(np.mean(score))"
   ]
  },
  {
   "cell_type": "code",
   "execution_count": null,
   "id": "d4860adb",
   "metadata": {},
   "outputs": [],
   "source": [
    "sb.lineplot(x = k_values, y = scores, marker = 'o')\n",
    "plt.xlabel(\"K Values\")\n",
    "plt.ylabel(\"Accuracy Score\")\n",
    "\n",
    "plt.show()"
   ]
  },
  {
   "cell_type": "code",
   "execution_count": null,
   "id": "6a28f847",
   "metadata": {},
   "outputs": [],
   "source": [
    "from sklearn.metrics import accuracy_score, precision_score, recall_score, f1_score, confusion_matrix\n",
    "\n",
    "best_index = np.argmax(scores)\n",
    "best_k = k_values[best_index]\n",
    "\n",
    "knn = KNeighborsClassifier(n_neighbors=best_k)\n",
    "knn.fit(X_train_s, y_train)\n",
    "\n",
    "y_pred = knn.predict(X_test_s)\n",
    "\n",
    "accuracy = accuracy_score(y_test, y_pred)\n",
    "precision = precision_score(y_test, y_pred, average='weighted')\n",
    "recall = recall_score(y_test, y_pred, average='weighted')\n",
    "f1 = f1_score(y_test, y_pred, average='weighted')\n",
    "cm = confusion_matrix(y_test, y_pred)\n",
    "\n",
    "print(\"Accuracy:\", accuracy)\n",
    "print(\"Precision:\", precision)\n",
    "print(\"Recall:\", recall)\n",
    "print(\"F1 Score:\", f1)\n",
    "print(\"Confusion Matrix:\\n\", cm)"
   ]
  }
 ],
 "metadata": {
  "kernelspec": {
   "display_name": "base",
   "language": "python",
   "name": "python3"
  },
  "language_info": {
   "codemirror_mode": {
    "name": "ipython",
    "version": 3
   },
   "file_extension": ".py",
   "mimetype": "text/x-python",
   "name": "python",
   "nbconvert_exporter": "python",
   "pygments_lexer": "ipython3",
   "version": "3.12.7"
  }
 },
 "nbformat": 4,
 "nbformat_minor": 5
}
