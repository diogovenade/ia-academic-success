{
 "cells": [
  {
   "cell_type": "markdown",
   "id": "cf80c5d2",
   "metadata": {},
   "source": [
    "# Classification with an Academic Success Dataset"
   ]
  },
  {
   "cell_type": "markdown",
   "id": "6bab3a8b",
   "metadata": {},
   "source": [
    "## Exploratory Data Analysis"
   ]
  },
  {
   "cell_type": "code",
   "execution_count": null,
   "id": "7b0d1a5a",
   "metadata": {},
   "outputs": [],
   "source": [
    "import pandas as pd\n",
    "import numpy as np\n",
    "import seaborn as sb\n",
    "import matplotlib.pyplot as plt\n",
    "%matplotlib inline"
   ]
  },
  {
   "cell_type": "code",
   "execution_count": null,
   "id": "f8f5168a",
   "metadata": {},
   "outputs": [],
   "source": [
    "train = pd.read_csv(\"data/train.csv\")\n",
    "test = pd.read_csv(\"data/test.csv\")"
   ]
  },
  {
   "cell_type": "code",
   "execution_count": null,
   "id": "37a03c78",
   "metadata": {},
   "outputs": [],
   "source": [
    "print(\"Dataset shape (rows, columns):\", train.shape)"
   ]
  },
  {
   "cell_type": "code",
   "execution_count": null,
   "id": "a658aeed",
   "metadata": {},
   "outputs": [],
   "source": [
    "print(\"First 5 rows:\")\n",
    "train.head()"
   ]
  },
  {
   "cell_type": "code",
   "execution_count": null,
   "id": "aa7b4e88",
   "metadata": {},
   "outputs": [],
   "source": [
    "print(\"\\nStatistical summary:\")\n",
    "train.describe()"
   ]
  },
  {
   "cell_type": "code",
   "execution_count": null,
   "id": "6c71da37",
   "metadata": {},
   "outputs": [],
   "source": [
    "print(\"\\nMissing values in each column:\")\n",
    "train.isnull().sum()"
   ]
  },
  {
   "cell_type": "code",
   "execution_count": null,
   "id": "de607ef9",
   "metadata": {},
   "outputs": [],
   "source": [
    "print(\"\\nNumber of duplicate rows:\")\n",
    "print(train.duplicated().sum())\n",
    "\n",
    "print(\"\\nUnique classes:\")\n",
    "print(train['Target'].unique())"
   ]
  },
  {
   "cell_type": "code",
   "execution_count": null,
   "id": "81ea0e18",
   "metadata": {},
   "outputs": [],
   "source": [
    "print(\"\\nDataset information:\")\n",
    "train.info()"
   ]
  },
  {
   "cell_type": "code",
   "execution_count": null,
   "id": "4479ae12",
   "metadata": {},
   "outputs": [],
   "source": [
    "target_counts = train['Target'].value_counts()\n",
    "\n",
    "fig, axes = plt.subplots(1, 2, figsize=(12, 5))\n",
    "\n",
    "# Bar plot\n",
    "sb.barplot(\n",
    "    x=target_counts.index,\n",
    "    y=target_counts.values,\n",
    "    hue=target_counts.index,\n",
    "    palette=\"viridis\",\n",
    "    dodge=False,\n",
    "    legend=False,\n",
    "    ax=axes[0]\n",
    ")\n",
    "axes[0].set_xlabel(\"Target\", fontsize=14)\n",
    "axes[0].set_ylabel(\"Frequency\", fontsize=14)\n",
    "axes[0].tick_params(axis='x', labelsize=12)\n",
    "axes[0].tick_params(axis='y', labelsize=12)\n",
    "\n",
    "# Pie chart\n",
    "axes[1].pie(\n",
    "    target_counts.values,\n",
    "    labels=target_counts.index,\n",
    "    autopct='%1.1f%%'\n",
    ")\n",
    "\n",
    "fig.suptitle(\"Target Distribution\", fontsize=18)\n",
    "plt.tight_layout(rect=[0, 0, 1, 0.95])\n",
    "plt.show()"
   ]
  },
  {
   "cell_type": "code",
   "execution_count": null,
   "id": "e5228133",
   "metadata": {},
   "outputs": [],
   "source": [
    "cat_vars = ['Marital status', 'Application mode', 'Course', 'Daytime/evening attendance',\n",
    "            'Previous qualification\t', 'Nacionality', \"Mother's qualification\",\n",
    "            \"Father's qualification\", \"Mother's occupation\", \"Father's occupation\",\n",
    "            'Displaced', 'Educational special needs', 'Debtor', 'Tuition fees up to date',\n",
    "            'Gender', 'Scholarship holder', 'International']\n",
    "\n",
    "\n",
    "features_to_plot = [col for col in train.columns if col not in ['id', 'Target']]\n",
    "\n",
    "n_cols = 4\n",
    "n_rows = int(np.ceil(len(features_to_plot) / n_cols))\n",
    "plt.figure(figsize=(n_cols * 5, n_rows * 4))\n",
    "\n",
    "for idx, col in enumerate(features_to_plot, 1):\n",
    "    plt.subplot(n_rows, n_cols, idx)\n",
    "    unique_count = train[col].nunique()\n",
    "    hide_xticks = unique_count > 25\n",
    "\n",
    "    if col in cat_vars:\n",
    "        sb.countplot(data=train, x=col, hue=col, palette=\"viridis\", legend=False)\n",
    "        if hide_xticks:\n",
    "            plt.xticks([])\n",
    "        else:\n",
    "            plt.xticks(rotation=45)\n",
    "    else:\n",
    "        if train[col].dtype == 'int64':\n",
    "            sb.countplot(data=train, x=col, hue=col, palette=\"mako\", legend=False)\n",
    "            if hide_xticks:\n",
    "                plt.xticks([])\n",
    "            else:\n",
    "                plt.xticks(rotation=45)\n",
    "        elif train[col].dtype == 'float64':\n",
    "            sb.histplot(train[col], kde=True, color=\"skyblue\")\n",
    "            if hide_xticks:\n",
    "                plt.xticks([])\n",
    "    plt.title(col)\n",
    "    plt.tight_layout()\n",
    "\n",
    "plt.show()"
   ]
  }
 ],
 "metadata": {
  "kernelspec": {
   "display_name": "base",
   "language": "python",
   "name": "python3"
  },
  "language_info": {
   "codemirror_mode": {
    "name": "ipython",
    "version": 3
   },
   "file_extension": ".py",
   "mimetype": "text/x-python",
   "name": "python",
   "nbconvert_exporter": "python",
   "pygments_lexer": "ipython3",
   "version": "3.12.7"
  }
 },
 "nbformat": 4,
 "nbformat_minor": 5
}
